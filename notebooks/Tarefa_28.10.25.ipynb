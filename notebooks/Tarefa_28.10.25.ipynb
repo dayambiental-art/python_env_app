{
 "cells": [
  {
   "cell_type": "markdown",
   "id": "6a10289b-d147-4681-a94f-b500ed3bb681",
   "metadata": {},
   "source": [
    "## Instalando os pacotes"
   ]
  },
  {
   "cell_type": "code",
   "execution_count": 26,
   "id": "f8c7fbc6-6892-4aac-a7ce-c5926709f125",
   "metadata": {},
   "outputs": [
    {
     "name": "stdout",
     "output_type": "stream",
     "text": [
      "Requirement already satisfied: pandas in d:\\documentos\\doutorado\\python\\venv\\lib\\site-packages (2.3.3)\n",
      "Requirement already satisfied: numpy>=1.26.0 in d:\\documentos\\doutorado\\python\\venv\\lib\\site-packages (from pandas) (2.3.4)\n",
      "Requirement already satisfied: python-dateutil>=2.8.2 in d:\\documentos\\doutorado\\python\\venv\\lib\\site-packages (from pandas) (2.9.0.post0)\n",
      "Requirement already satisfied: pytz>=2020.1 in d:\\documentos\\doutorado\\python\\venv\\lib\\site-packages (from pandas) (2025.2)\n",
      "Requirement already satisfied: tzdata>=2022.7 in d:\\documentos\\doutorado\\python\\venv\\lib\\site-packages (from pandas) (2025.2)\n",
      "Requirement already satisfied: six>=1.5 in d:\\documentos\\doutorado\\python\\venv\\lib\\site-packages (from python-dateutil>=2.8.2->pandas) (1.17.0)\n",
      "Note: you may need to restart the kernel to use updated packages.\n"
     ]
    }
   ],
   "source": [
    "pip install pandas"
   ]
  },
  {
   "cell_type": "code",
   "execution_count": 27,
   "id": "eac0362c-e27d-471c-82a6-47d2836b3cae",
   "metadata": {},
   "outputs": [],
   "source": [
    "import pandas as pd\n",
    "import glob\n",
    "import os"
   ]
  },
  {
   "cell_type": "markdown",
   "id": "33cc7910-48cc-4cd3-a7d4-33c09c884f1b",
   "metadata": {},
   "source": [
    "## Lendo os arquivos"
   ]
  },
  {
   "cell_type": "code",
   "execution_count": 57,
   "id": "ddf3722a-1109-4e00-9583-c8638af04fe3",
   "metadata": {},
   "outputs": [
    {
     "name": "stdout",
     "output_type": "stream",
     "text": [
      "Index(['DATETIME', 'TEMPERATURA_MEDIA'], dtype='object')\n"
     ]
    }
   ],
   "source": [
    "df = pd.read_csv(arquivo, sep=\",\", skiprows=len(metadados) + 1)\n",
    "print(df.columns)"
   ]
  },
  {
   "cell_type": "code",
   "execution_count": 60,
   "id": "262b524b-f1a8-483d-9cb7-98b22e9f25ff",
   "metadata": {
    "scrolled": true
   },
   "outputs": [
    {
     "name": "stdout",
     "output_type": "stream",
     "text": [
      "Colunas do arquivo dados_CWB_D_2020-01-01_2024-12-31.csv:\n",
      "Index(['DATETIME', 'TEMPERATURA_MEDIA'], dtype='object')\n"
     ]
    },
    {
     "ename": "ValueError",
     "evalue": "time data \"1/13/2020\" doesn't match format \"%d/%m/%Y\", at position 12. You might want to try:\n    - passing `format` if your strings have a consistent format;\n    - passing `format='ISO8601'` if your strings are all ISO8601 but not necessarily in exactly the same format;\n    - passing `format='mixed'`, and the format will be inferred for each element individually. You might want to use `dayfirst` alongside this.",
     "output_type": "error",
     "traceback": [
      "\u001b[31m---------------------------------------------------------------------------\u001b[39m",
      "\u001b[31mValueError\u001b[39m                                Traceback (most recent call last)",
      "\u001b[36mCell\u001b[39m\u001b[36m \u001b[39m\u001b[32mIn[60]\u001b[39m\u001b[32m, line 51\u001b[39m\n\u001b[32m     49\u001b[39m \u001b[38;5;66;03m# Conversão para DATETIME e padronização do nome da coluna\u001b[39;00m\n\u001b[32m     50\u001b[39m \u001b[38;5;28;01mif\u001b[39;00m \u001b[33m'\u001b[39m\u001b[33mDATETIME\u001b[39m\u001b[33m'\u001b[39m \u001b[38;5;129;01min\u001b[39;00m df.columns:\n\u001b[32m---> \u001b[39m\u001b[32m51\u001b[39m     df[\u001b[33m'\u001b[39m\u001b[33mDATETIME\u001b[39m\u001b[33m'\u001b[39m] = \u001b[43mpd\u001b[49m\u001b[43m.\u001b[49m\u001b[43mto_datetime\u001b[49m\u001b[43m(\u001b[49m\u001b[43mdf\u001b[49m\u001b[43m[\u001b[49m\u001b[33;43m'\u001b[39;49m\u001b[33;43mDATETIME\u001b[39;49m\u001b[33;43m'\u001b[39;49m\u001b[43m]\u001b[49m\u001b[43m,\u001b[49m\u001b[43m \u001b[49m\u001b[43mdayfirst\u001b[49m\u001b[43m=\u001b[49m\u001b[38;5;28;43;01mTrue\u001b[39;49;00m\u001b[43m)\u001b[49m\n\u001b[32m     52\u001b[39m \u001b[38;5;28;01melif\u001b[39;00m \u001b[33m'\u001b[39m\u001b[33mDATA\u001b[39m\u001b[33m'\u001b[39m \u001b[38;5;129;01min\u001b[39;00m df.columns:\n\u001b[32m     53\u001b[39m     \u001b[38;5;66;03m# Renomeia para 'DATETIME' antes de converter, para padronizar\u001b[39;00m\n\u001b[32m     54\u001b[39m     df = df.rename(columns={\u001b[33m'\u001b[39m\u001b[33mDATA\u001b[39m\u001b[33m'\u001b[39m: \u001b[33m'\u001b[39m\u001b[33mDATETIME\u001b[39m\u001b[33m'\u001b[39m})\n",
      "\u001b[36mFile \u001b[39m\u001b[32mD:\\Documentos\\Doutorado\\Python\\venv\\Lib\\site-packages\\pandas\\core\\tools\\datetimes.py:1072\u001b[39m, in \u001b[36mto_datetime\u001b[39m\u001b[34m(arg, errors, dayfirst, yearfirst, utc, format, exact, unit, infer_datetime_format, origin, cache)\u001b[39m\n\u001b[32m   1070\u001b[39m         result = arg.map(cache_array)\n\u001b[32m   1071\u001b[39m     \u001b[38;5;28;01melse\u001b[39;00m:\n\u001b[32m-> \u001b[39m\u001b[32m1072\u001b[39m         values = \u001b[43mconvert_listlike\u001b[49m\u001b[43m(\u001b[49m\u001b[43marg\u001b[49m\u001b[43m.\u001b[49m\u001b[43m_values\u001b[49m\u001b[43m,\u001b[49m\u001b[43m \u001b[49m\u001b[38;5;28;43mformat\u001b[39;49m\u001b[43m)\u001b[49m\n\u001b[32m   1073\u001b[39m         result = arg._constructor(values, index=arg.index, name=arg.name)\n\u001b[32m   1074\u001b[39m \u001b[38;5;28;01melif\u001b[39;00m \u001b[38;5;28misinstance\u001b[39m(arg, (ABCDataFrame, abc.MutableMapping)):\n",
      "\u001b[36mFile \u001b[39m\u001b[32mD:\\Documentos\\Doutorado\\Python\\venv\\Lib\\site-packages\\pandas\\core\\tools\\datetimes.py:435\u001b[39m, in \u001b[36m_convert_listlike_datetimes\u001b[39m\u001b[34m(arg, format, name, utc, unit, errors, dayfirst, yearfirst, exact)\u001b[39m\n\u001b[32m    433\u001b[39m \u001b[38;5;66;03m# `format` could be inferred, or user didn't ask for mixed-format parsing.\u001b[39;00m\n\u001b[32m    434\u001b[39m \u001b[38;5;28;01mif\u001b[39;00m \u001b[38;5;28mformat\u001b[39m \u001b[38;5;129;01mis\u001b[39;00m \u001b[38;5;129;01mnot\u001b[39;00m \u001b[38;5;28;01mNone\u001b[39;00m \u001b[38;5;129;01mand\u001b[39;00m \u001b[38;5;28mformat\u001b[39m != \u001b[33m\"\u001b[39m\u001b[33mmixed\u001b[39m\u001b[33m\"\u001b[39m:\n\u001b[32m--> \u001b[39m\u001b[32m435\u001b[39m     \u001b[38;5;28;01mreturn\u001b[39;00m \u001b[43m_array_strptime_with_fallback\u001b[49m\u001b[43m(\u001b[49m\u001b[43marg\u001b[49m\u001b[43m,\u001b[49m\u001b[43m \u001b[49m\u001b[43mname\u001b[49m\u001b[43m,\u001b[49m\u001b[43m \u001b[49m\u001b[43mutc\u001b[49m\u001b[43m,\u001b[49m\u001b[43m \u001b[49m\u001b[38;5;28;43mformat\u001b[39;49m\u001b[43m,\u001b[49m\u001b[43m \u001b[49m\u001b[43mexact\u001b[49m\u001b[43m,\u001b[49m\u001b[43m \u001b[49m\u001b[43merrors\u001b[49m\u001b[43m)\u001b[49m\n\u001b[32m    437\u001b[39m result, tz_parsed = objects_to_datetime64(\n\u001b[32m    438\u001b[39m     arg,\n\u001b[32m    439\u001b[39m     dayfirst=dayfirst,\n\u001b[32m   (...)\u001b[39m\u001b[32m    443\u001b[39m     allow_object=\u001b[38;5;28;01mTrue\u001b[39;00m,\n\u001b[32m    444\u001b[39m )\n\u001b[32m    446\u001b[39m \u001b[38;5;28;01mif\u001b[39;00m tz_parsed \u001b[38;5;129;01mis\u001b[39;00m \u001b[38;5;129;01mnot\u001b[39;00m \u001b[38;5;28;01mNone\u001b[39;00m:\n\u001b[32m    447\u001b[39m     \u001b[38;5;66;03m# We can take a shortcut since the datetime64 numpy array\u001b[39;00m\n\u001b[32m    448\u001b[39m     \u001b[38;5;66;03m# is in UTC\u001b[39;00m\n",
      "\u001b[36mFile \u001b[39m\u001b[32mD:\\Documentos\\Doutorado\\Python\\venv\\Lib\\site-packages\\pandas\\core\\tools\\datetimes.py:469\u001b[39m, in \u001b[36m_array_strptime_with_fallback\u001b[39m\u001b[34m(arg, name, utc, fmt, exact, errors)\u001b[39m\n\u001b[32m    458\u001b[39m \u001b[38;5;28;01mdef\u001b[39;00m\u001b[38;5;250m \u001b[39m\u001b[34m_array_strptime_with_fallback\u001b[39m(\n\u001b[32m    459\u001b[39m     arg,\n\u001b[32m    460\u001b[39m     name,\n\u001b[32m   (...)\u001b[39m\u001b[32m    464\u001b[39m     errors: \u001b[38;5;28mstr\u001b[39m,\n\u001b[32m    465\u001b[39m ) -> Index:\n\u001b[32m    466\u001b[39m \u001b[38;5;250m    \u001b[39m\u001b[33;03m\"\"\"\u001b[39;00m\n\u001b[32m    467\u001b[39m \u001b[33;03m    Call array_strptime, with fallback behavior depending on 'errors'.\u001b[39;00m\n\u001b[32m    468\u001b[39m \u001b[33;03m    \"\"\"\u001b[39;00m\n\u001b[32m--> \u001b[39m\u001b[32m469\u001b[39m     result, tz_out = \u001b[43marray_strptime\u001b[49m\u001b[43m(\u001b[49m\u001b[43marg\u001b[49m\u001b[43m,\u001b[49m\u001b[43m \u001b[49m\u001b[43mfmt\u001b[49m\u001b[43m,\u001b[49m\u001b[43m \u001b[49m\u001b[43mexact\u001b[49m\u001b[43m=\u001b[49m\u001b[43mexact\u001b[49m\u001b[43m,\u001b[49m\u001b[43m \u001b[49m\u001b[43merrors\u001b[49m\u001b[43m=\u001b[49m\u001b[43merrors\u001b[49m\u001b[43m,\u001b[49m\u001b[43m \u001b[49m\u001b[43mutc\u001b[49m\u001b[43m=\u001b[49m\u001b[43mutc\u001b[49m\u001b[43m)\u001b[49m\n\u001b[32m    470\u001b[39m     \u001b[38;5;28;01mif\u001b[39;00m tz_out \u001b[38;5;129;01mis\u001b[39;00m \u001b[38;5;129;01mnot\u001b[39;00m \u001b[38;5;28;01mNone\u001b[39;00m:\n\u001b[32m    471\u001b[39m         unit = np.datetime_data(result.dtype)[\u001b[32m0\u001b[39m]\n",
      "\u001b[36mFile \u001b[39m\u001b[32mpandas/_libs/tslibs/strptime.pyx:501\u001b[39m, in \u001b[36mpandas._libs.tslibs.strptime.array_strptime\u001b[39m\u001b[34m()\u001b[39m\n",
      "\u001b[36mFile \u001b[39m\u001b[32mpandas/_libs/tslibs/strptime.pyx:451\u001b[39m, in \u001b[36mpandas._libs.tslibs.strptime.array_strptime\u001b[39m\u001b[34m()\u001b[39m\n",
      "\u001b[36mFile \u001b[39m\u001b[32mpandas/_libs/tslibs/strptime.pyx:583\u001b[39m, in \u001b[36mpandas._libs.tslibs.strptime._parse_with_format\u001b[39m\u001b[34m()\u001b[39m\n",
      "\u001b[31mValueError\u001b[39m: time data \"1/13/2020\" doesn't match format \"%d/%m/%Y\", at position 12. You might want to try:\n    - passing `format` if your strings have a consistent format;\n    - passing `format='ISO8601'` if your strings are all ISO8601 but not necessarily in exactly the same format;\n    - passing `format='mixed'`, and the format will be inferred for each element individually. You might want to use `dayfirst` alongside this."
     ]
    }
   ],
   "source": [
    "# Caminho da pasta onde estão os arquivos\n",
    "pasta = r\"D:\\Documentos\\Doutorado\\Python\\python_env_app\\dados\\Dados_Sul\"\n",
    "\n",
    "# Lendo os arquivos csv\n",
    "arquivos = glob.glob(os.path.join(pasta, \"*.csv\"))\n",
    "\n",
    "# Lista para armazenar os dataframes\n",
    "lista_dfs = []\n",
    "\n",
    "for arquivo in arquivos:\n",
    "    # ------------------------------------------------------------------\n",
    "    # 1. EXTRAÇÃO DOS METADADOS E CONTAGEM DAS LINHAS A SEREM PULADAS\n",
    "    # ------------------------------------------------------------------\n",
    "    metadados = {}\n",
    "    linhas_puladas = 0\n",
    "    with open(arquivo, \"r\", encoding=\"utf-8\") as f:\n",
    "        for line in f:\n",
    "            linhas_puladas += 1\n",
    "            line = line.strip()\n",
    "            \n",
    "            # Condição de parada: Linha vazia ou linha de cabeçalho\n",
    "            if line == \"\" or line.startswith(\"DATETIME\") or line.startswith(\"DATA\"): \n",
    "                break\n",
    "                \n",
    "            if \":\" in line:\n",
    "                chave, valor = line.split(\":\", 1)\n",
    "                metadados[chave.strip()] = valor.strip()\n",
    "    \n",
    "    # ------------------------------------------------------------------\n",
    "    # 2. LEITURA DA TABELA DE DADOS COM PANDAS\n",
    "    # ------------------------------------------------------------------\n",
    "    \n",
    "    # Usamos linhas_puladas que agora deve apontar para o cabeçalho (ou a linha acima dele)\n",
    "    # se a sua lógica original de \"len(metadados) + 1\" estava correta, mantenha ela\n",
    "    # se a nova lógica de quebra de linha funcionar, use linhas_puladas\n",
    "    df = pd.read_csv(arquivo, sep=\",\", skiprows=linhas_puladas - 1) \n",
    "    \n",
    "    # ------------------------------------------------------------------\n",
    "    # 3. PRÉ-PROCESSAMENTO DO DATAFRAME\n",
    "    # ------------------------------------------------------------------\n",
    "\n",
    "    # Limpa espaços em branco dos nomes das colunas (Ex: ' DATETIME ' vira 'DATETIME')\n",
    "    df.columns = df.columns.str.strip()\n",
    "    \n",
    "    # Colunas com os nomes corretos (para visualização)\n",
    "    print(f\"Colunas do arquivo {os.path.basename(arquivo)}:\")\n",
    "    print(df.columns)\n",
    "    \n",
    "    # Conversão para DATETIME e padronização do nome da coluna\n",
    "    if 'DATETIME' in df.columns:\n",
    "        df['DATETIME'] = pd.to_datetime(df['DATETIME'], dayfirst=True)\n",
    "    elif 'DATA' in df.columns:\n",
    "        # Renomeia para 'DATETIME' antes de converter, para padronizar\n",
    "        df = df.rename(columns={'DATA': 'DATETIME'})\n",
    "        df['DATETIME'] = pd.to_datetime(df['DATETIME'], dayfirst=True)\n",
    "        \n",
    "    # Adiciona colunas com informações da estação (metadados)\n",
    "    for chave, valor in metadados.items():\n",
    "        # Limpa o nome da coluna de metadados para evitar espaços\n",
    "        df[chave.replace(\" \", \"_\")] = valor \n",
    "        \n",
    "    # Adiciona à lista de dataframes\n",
    "    lista_dfs.append(df)\n",
    "\n",
    "# Junta tudo em um só dataframe\n",
    "df_todas = pd.concat(lista_dfs, ignore_index=True)\n",
    "\n",
    "# Mostra um resumo\n",
    "print(\"\\n\" + \"=\"*50)\n",
    "print(\"Dataframe Consolidado (df_todas)\")\n",
    "print(\"=\"*50)\n",
    "print(df_todas.info())\n",
    "print(\"\\nHead do Dataframe:\")\n",
    "print(df_todas.head())"
   ]
  },
  {
   "cell_type": "code",
   "execution_count": null,
   "id": "eddc5774-ddba-4a2d-b4b7-3e133078b9da",
   "metadata": {},
   "outputs": [],
   "source": []
  },
  {
   "cell_type": "code",
   "execution_count": 48,
   "id": "ffaa8a33-cdce-470d-843d-8d8d18cfafb2",
   "metadata": {},
   "outputs": [
    {
     "name": "stdout",
     "output_type": "stream",
     "text": [
      "Nomes das colunas em df_todas:\n",
      "['DATETIME,TEMPERATURA_MEDIA', 'Nome', 'Codigo Estacao', 'Latitude', 'Longitude', 'Altitude', 'Situacao', 'Data Inicial', 'Data Final', 'Periodicidade da Medicao']\n"
     ]
    }
   ],
   "source": [
    "print(\"Nomes das colunas em df_todas:\")\n",
    "print(df_todas.columns.tolist())"
   ]
  },
  {
   "cell_type": "code",
   "execution_count": 56,
   "id": "1c131fbf-795c-414e-a6ac-7b84b210871a",
   "metadata": {},
   "outputs": [],
   "source": [
    "# 1. Defina a lista de colunas desejadas (correto)\n",
    "colunas_desejadas = ['DATETIME,TEMPERATURA_MEDIA', 'Nome', 'Codigo Estacao', 'Latitude', 'Longitude', 'Altitude']\n",
    "df_novo = df_todas[colunas_desejadas]"
   ]
  },
  {
   "cell_type": "code",
   "execution_count": null,
   "id": "95a19844-fffb-423f-8c4e-cf0ea59f196e",
   "metadata": {},
   "outputs": [],
   "source": []
  }
 ],
 "metadata": {
  "kernelspec": {
   "display_name": "Python 3 (ipykernel)",
   "language": "python",
   "name": "python3"
  },
  "language_info": {
   "codemirror_mode": {
    "name": "ipython",
    "version": 3
   },
   "file_extension": ".py",
   "mimetype": "text/x-python",
   "name": "python",
   "nbconvert_exporter": "python",
   "pygments_lexer": "ipython3",
   "version": "3.13.7"
  }
 },
 "nbformat": 4,
 "nbformat_minor": 5
}
