{
 "cells": [
  {
   "cell_type": "markdown",
   "id": "a36a9d10-0577-4636-b092-1e1c3aea248d",
   "metadata": {},
   "source": [
    "# Aula 01\n",
    "Nesta aula é apresentado o Jupyter Notebook e os comandos básicos na interface de programação\n"
   ]
  },
  {
   "cell_type": "markdown",
   "id": "9dce1b8a-ed78-4624-b94a-6575fc3b0e77",
   "metadata": {},
   "source": [
    "## Comandos básicos e variáveis"
   ]
  },
  {
   "cell_type": "code",
   "execution_count": 4,
   "id": "3f6a09e7-8c19-4df2-8555-ac91c4af278a",
   "metadata": {},
   "outputs": [
    {
     "name": "stdout",
     "output_type": "stream",
     "text": [
      "A é igual a: 1\n",
      "3\n"
     ]
    }
   ],
   "source": [
    "# Declaração de variáveis em Python\n",
    "\n",
    "a = 1\n",
    "b = 2\n",
    "\n",
    "print ('A é igual a: '+ str(a))\n",
    "print (a+b)"
   ]
  },
  {
   "cell_type": "code",
   "execution_count": null,
   "id": "2d9e9ac5-41d8-4756-aca8-74d575448bb1",
   "metadata": {},
   "outputs": [],
   "source": []
  }
 ],
 "metadata": {
  "kernelspec": {
   "display_name": "Python 3 (ipykernel)",
   "language": "python",
   "name": "python3"
  },
  "language_info": {
   "codemirror_mode": {
    "name": "ipython",
    "version": 3
   },
   "file_extension": ".py",
   "mimetype": "text/x-python",
   "name": "python",
   "nbconvert_exporter": "python",
   "pygments_lexer": "ipython3",
   "version": "3.13.7"
  }
 },
 "nbformat": 4,
 "nbformat_minor": 5
}
